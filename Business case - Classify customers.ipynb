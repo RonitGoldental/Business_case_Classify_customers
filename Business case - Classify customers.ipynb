{
 "cells": [
  {
   "cell_type": "markdown",
   "metadata": {},
   "source": [
    "# Business case - Classify customers"
   ]
  },
  {
   "cell_type": "markdown",
   "metadata": {},
   "source": [
    "## preprocessing"
   ]
  },
  {
   "cell_type": "code",
   "execution_count": 111,
   "metadata": {},
   "outputs": [],
   "source": [
    "import tensorflow as tf\n",
    "import numpy as np\n",
    "import matplotlib.pyplot as plt\n",
    "import pandas as pd\n",
    "from sklearn import preprocessing"
   ]
  },
  {
   "cell_type": "code",
   "execution_count": 112,
   "metadata": {},
   "outputs": [],
   "source": [
    "row_csv_data = np.loadtxt('Audiobooks-data.csv', delimiter= ',')\n",
    "unscaled_input_all = row_csv_data[:,1:-1]\n",
    "targets_all= row_csv_data[:,-1]"
   ]
  },
  {
   "cell_type": "markdown",
   "metadata": {},
   "source": [
    "## shuffle the data"
   ]
  },
  {
   "cell_type": "code",
   "execution_count": 113,
   "metadata": {},
   "outputs": [
    {
     "data": {
      "text/plain": [
       "array([[1620.  , 1620.  ,   19.73, ..., 1603.8 ,    5.  ,   92.  ],\n",
       "       [2160.  , 2160.  ,    5.33, ...,    0.  ,    0.  ,    0.  ],\n",
       "       [2160.  , 2160.  ,    5.33, ...,    0.  ,    0.  ,  388.  ],\n",
       "       ...,\n",
       "       [2160.  , 2160.  ,    6.14, ...,    0.  ,    0.  ,    0.  ],\n",
       "       [1620.  , 1620.  ,    5.33, ...,  615.6 ,    0.  ,   90.  ],\n",
       "       [1674.  , 3348.  ,    5.33, ...,    0.  ,    0.  ,    0.  ]])"
      ]
     },
     "execution_count": 113,
     "metadata": {},
     "output_type": "execute_result"
    }
   ],
   "source": [
    "unscaled_input_all"
   ]
  },
  {
   "cell_type": "code",
   "execution_count": 114,
   "metadata": {},
   "outputs": [
    {
     "name": "stdout",
     "output_type": "stream",
     "text": [
      "[    0     1     2 ... 14081 14082 14083]\n",
      "[11463 12873  5661 ...  6034   201  2776]\n"
     ]
    }
   ],
   "source": [
    "shuffled_indices = np.arange(unscaled_input_all.shape[0])\n",
    "print(shuffled_indices)\n",
    "np.random.shuffle(shuffled_indices)\n",
    "print(shuffled_indices)\n",
    "shuffled_inputs_all = uscaled_input_all[shuffled_indices]\n",
    "shuffled_targets_all = targets_all[shuffled_indices]"
   ]
  },
  {
   "cell_type": "code",
   "execution_count": 115,
   "metadata": {},
   "outputs": [
    {
     "data": {
      "text/plain": [
       "array([[1.620e+03, 1.620e+03, 8.610e+00, ..., 8.910e+02, 1.000e+00,\n",
       "        1.800e+01],\n",
       "       [2.160e+03, 2.160e+03, 6.070e+00, ..., 9.288e+02, 0.000e+00,\n",
       "        1.950e+02],\n",
       "       [1.620e+03, 1.620e+03, 5.330e+00, ..., 4.536e+02, 0.000e+00,\n",
       "        1.850e+02],\n",
       "       ...,\n",
       "       [1.620e+03, 1.620e+03, 1.013e+01, ..., 6.480e+01, 0.000e+00,\n",
       "        2.000e+01],\n",
       "       [2.160e+03, 2.160e+03, 8.000e+00, ..., 0.000e+00, 0.000e+00,\n",
       "        0.000e+00],\n",
       "       [2.160e+03, 2.160e+03, 5.330e+00, ..., 4.320e+01, 0.000e+00,\n",
       "        0.000e+00]])"
      ]
     },
     "execution_count": 115,
     "metadata": {},
     "output_type": "execute_result"
    }
   ],
   "source": [
    "shuffled_inputs_all"
   ]
  },
  {
   "cell_type": "markdown",
   "metadata": {},
   "source": [
    "## balance dataset\n"
   ]
  },
  {
   "cell_type": "code",
   "execution_count": 116,
   "metadata": {},
   "outputs": [],
   "source": [
    "num_one_tragets = sum(shuffled_targets_all)\n",
    "zero_targets_counter = 0\n",
    "indices_to_remove = []\n",
    "\n",
    "for i in range(shuffled_targets_all.shape[0]):\n",
    "    if shuffled_targets_all[i]==0:\n",
    "        zero_targets_counter += 1\n",
    "        if zero_targets_counter > num_one_tragets:\n",
    "            indices_to_remove.append(i)\n",
    "        \n",
    "        \n",
    "unscaled_inputs_equal_priors = np.delete(shuffled_inputs_all, indices_to_remove, axis = 0)\n",
    "targets_equal_priors = np.delete(shuffled_targets_all, indices_to_remove,axis=0)\n",
    "        \n",
    "\n"
   ]
  },
  {
   "cell_type": "markdown",
   "metadata": {},
   "source": [
    "## standardize the inputs"
   ]
  },
  {
   "cell_type": "code",
   "execution_count": 117,
   "metadata": {},
   "outputs": [],
   "source": [
    "scaled_inputs = preprocessing.scale(unscaled_inputs_equal_priors)"
   ]
  },
  {
   "cell_type": "markdown",
   "metadata": {},
   "source": [
    "## suffle the data"
   ]
  },
  {
   "cell_type": "code",
   "execution_count": 118,
   "metadata": {},
   "outputs": [],
   "source": [
    "shuffled_indices = np.arange(scaled_inputs.shape[0])\n",
    "np.random.shuffle(shuffled_indices)\n",
    "shuffled_inputs = scaled_inputs[shuffled_indices]\n",
    "shuffled_targets = targets_equal_priors[shuffled_indices]"
   ]
  },
  {
   "cell_type": "markdown",
   "metadata": {},
   "source": [
    "## split the dataset into train, validation an test"
   ]
  },
  {
   "cell_type": "code",
   "execution_count": 119,
   "metadata": {},
   "outputs": [],
   "source": [
    "sample_count = targets_equal_priors.shape[0]\n",
    "train_samples_count = int(0.8*sample_count)\n",
    "validation_samples_count = int(0.1*sample_count)\n",
    "test_samples_count = sample_count - train_samples_count - validation_samples_count"
   ]
  },
  {
   "cell_type": "code",
   "execution_count": 124,
   "metadata": {},
   "outputs": [],
   "source": [
    "train_inputs = shuffled_inputs[:train_samples_count]\n",
    "train_targets =shuffled_targets[:train_samples_count]\n",
    "\n",
    "validation_inputs= shuffled_inputs[train_samples_count:train_samples_count+validation_sample_count]\n",
    "validation_targets =  shuffled_targets[train_samples_count:train_samples_count+validation_sample_count]\n",
    "\n",
    "test_inputs =  shuffled_inputs[train_samples_count+validation_sample_count:]\n",
    "test_targets =  shuffled_targets[train_samples_count+validation_sample_count:]"
   ]
  },
  {
   "cell_type": "code",
   "execution_count": 125,
   "metadata": {},
   "outputs": [
    {
     "name": "stdout",
     "output_type": "stream",
     "text": [
      "1800.0 3579 0.5029337803855826\n",
      "213.0 447 0.47651006711409394\n",
      "224.0 448 0.5\n"
     ]
    }
   ],
   "source": [
    "print(np.sum(train_targets), train_samples_count, np.sum(train_targets) / train_samples_count)\n",
    "print(np.sum(validation_targets), validation_samples_count, np.sum(validation_targets) / validation_samples_count)\n",
    "print(np.sum(test_targets), test_samples_count, np.sum(test_targets) / test_samples_count)"
   ]
  },
  {
   "cell_type": "markdown",
   "metadata": {},
   "source": [
    "### Save the three datasets in *.npz"
   ]
  },
  {
   "cell_type": "code",
   "execution_count": 126,
   "metadata": {},
   "outputs": [],
   "source": [
    "np.savez('Audiobooks_data_train', inputs=train_inputs, targets=train_targets)\n",
    "np.savez('Audiobooks_data_validation', inputs=validation_inputs, targets=validation_targets)\n",
    "np.savez('Audiobooks_data_test', inputs=test_inputs, targets=test_targets)"
   ]
  },
  {
   "cell_type": "markdown",
   "metadata": {},
   "source": [
    "## load the data"
   ]
  },
  {
   "cell_type": "code",
   "execution_count": 132,
   "metadata": {},
   "outputs": [],
   "source": [
    "npz = np.load('Audiobooks_data_train.npz')\n",
    "train_inputs = npz['inputs'].astype(np.float)\n",
    "train_targets = npz['targets'].astype(np.int)\n",
    "\n",
    "npz = np.load('Audiobooks_data_validation.npz')\n",
    "validation_inputs = npz['inputs'].astype(np.float)\n",
    "validation_targets = npz['targets'].astype(np.int)\n",
    "\n",
    "npz = np.load('Audiobooks_data_test.npz')\n",
    "test_inputs = npz['inputs'].astype(np.float)\n",
    "test_targets = npz['targets'].astype(np.int)"
   ]
  },
  {
   "cell_type": "markdown",
   "metadata": {},
   "source": [
    "## model"
   ]
  },
  {
   "cell_type": "code",
   "execution_count": 140,
   "metadata": {},
   "outputs": [
    {
     "name": "stdout",
     "output_type": "stream",
     "text": [
      "Train on 3579 samples, validate on 447 samples\n",
      "Epoch 1/100\n",
      "3579/3579 - 0s - loss: 0.5808 - accuracy: 0.6588 - val_loss: 0.5041 - val_accuracy: 0.7696\n",
      "Epoch 2/100\n",
      "3579/3579 - 0s - loss: 0.4803 - accuracy: 0.7617 - val_loss: 0.4394 - val_accuracy: 0.7785\n",
      "Epoch 3/100\n",
      "3579/3579 - 0s - loss: 0.4370 - accuracy: 0.7804 - val_loss: 0.4092 - val_accuracy: 0.8076\n",
      "Epoch 4/100\n",
      "3579/3579 - 0s - loss: 0.4117 - accuracy: 0.7904 - val_loss: 0.3869 - val_accuracy: 0.8031\n",
      "Epoch 5/100\n",
      "3579/3579 - 0s - loss: 0.4008 - accuracy: 0.7955 - val_loss: 0.3690 - val_accuracy: 0.8277\n",
      "Epoch 6/100\n",
      "3579/3579 - 0s - loss: 0.3900 - accuracy: 0.8002 - val_loss: 0.3656 - val_accuracy: 0.8166\n",
      "Epoch 7/100\n",
      "3579/3579 - 0s - loss: 0.3830 - accuracy: 0.8011 - val_loss: 0.3607 - val_accuracy: 0.8233\n",
      "Epoch 8/100\n",
      "3579/3579 - 0s - loss: 0.3790 - accuracy: 0.8030 - val_loss: 0.3549 - val_accuracy: 0.8233\n",
      "Epoch 9/100\n",
      "3579/3579 - 0s - loss: 0.3781 - accuracy: 0.8013 - val_loss: 0.3446 - val_accuracy: 0.8300\n",
      "Epoch 10/100\n",
      "3579/3579 - 0s - loss: 0.3720 - accuracy: 0.8027 - val_loss: 0.3433 - val_accuracy: 0.8322\n",
      "Epoch 11/100\n",
      "3579/3579 - 0s - loss: 0.3715 - accuracy: 0.8069 - val_loss: 0.3430 - val_accuracy: 0.8210\n",
      "Epoch 12/100\n",
      "3579/3579 - 0s - loss: 0.3659 - accuracy: 0.8036 - val_loss: 0.3456 - val_accuracy: 0.8210\n",
      "Epoch 13/100\n",
      "3579/3579 - 0s - loss: 0.3653 - accuracy: 0.8136 - val_loss: 0.3393 - val_accuracy: 0.8277\n",
      "Epoch 14/100\n",
      "3579/3579 - 0s - loss: 0.3639 - accuracy: 0.8080 - val_loss: 0.3372 - val_accuracy: 0.8300\n",
      "Epoch 15/100\n",
      "3579/3579 - 0s - loss: 0.3625 - accuracy: 0.8078 - val_loss: 0.3387 - val_accuracy: 0.8277\n",
      "Epoch 16/100\n",
      "3579/3579 - 0s - loss: 0.3601 - accuracy: 0.8173 - val_loss: 0.3355 - val_accuracy: 0.8233\n",
      "Epoch 17/100\n",
      "3579/3579 - 0s - loss: 0.3604 - accuracy: 0.8106 - val_loss: 0.3401 - val_accuracy: 0.8277\n",
      "Epoch 18/100\n",
      "3579/3579 - 0s - loss: 0.3560 - accuracy: 0.8136 - val_loss: 0.3425 - val_accuracy: 0.8210\n"
     ]
    },
    {
     "data": {
      "text/plain": [
       "<tensorflow.python.keras.callbacks.History at 0x7f721863c7d0>"
      ]
     },
     "execution_count": 140,
     "metadata": {},
     "output_type": "execute_result"
    }
   ],
   "source": [
    "input_size = 10\n",
    "output_size = 2\n",
    "hidden_layer_size = 50\n",
    "\n",
    "\n",
    "model = tf.keras.Sequential([\n",
    "                            tf.keras.layers.Dense(hidden_layer_size, activation='relu'),\n",
    "                            tf.keras.layers.Dense(hidden_layer_size,  activation='relu'),\n",
    "                            tf.keras.layers.Dense(output_size,  activation='softmax')\n",
    "                            ])\n",
    "\n",
    "model.compile(optimizer = 'adam',loss = 'sparse_categorical_crossentropy', metrics=['accuracy'])\n",
    "\n",
    "batch_size = 100\n",
    "max_epochs = 100\n",
    "early_stopping = tf.keras.callbacks.EarlyStopping(patience = 2)\n",
    "\n",
    "model.fit(train_inputs,train_targets,batch_size = batch_size, epochs=max_epochs,\n",
    "          callbacks=[early_stopping],\n",
    "          validation_data = (validation_inputs,validation_targets),\n",
    "          verbose=2)"
   ]
  },
  {
   "cell_type": "code",
   "execution_count": 142,
   "metadata": {},
   "outputs": [
    {
     "name": "stdout",
     "output_type": "stream",
     "text": [
      "448/448 [==============================] - 0s 128us/sample - loss: 0.4029 - accuracy: 0.7679\n"
     ]
    }
   ],
   "source": [
    "test_loss, test_accuracy = model.evaluate(test_inputs,test_targets)"
   ]
  },
  {
   "cell_type": "code",
   "execution_count": 143,
   "metadata": {},
   "outputs": [
    {
     "name": "stdout",
     "output_type": "stream",
     "text": [
      "Test loss : 0.40. Test accuracy: 76.79%\n"
     ]
    }
   ],
   "source": [
    "print('Test loss : {0:.2f}. Test accuracy: {1:.2f}%'.format(test_loss,test_accuracy*100.))"
   ]
  }
 ],
 "metadata": {
  "kernelspec": {
   "display_name": "Python 3",
   "language": "python",
   "name": "python3"
  },
  "language_info": {
   "codemirror_mode": {
    "name": "ipython",
    "version": 3
   },
   "file_extension": ".py",
   "mimetype": "text/x-python",
   "name": "python",
   "nbconvert_exporter": "python",
   "pygments_lexer": "ipython3",
   "version": "3.7.4"
  }
 },
 "nbformat": 4,
 "nbformat_minor": 2
}
